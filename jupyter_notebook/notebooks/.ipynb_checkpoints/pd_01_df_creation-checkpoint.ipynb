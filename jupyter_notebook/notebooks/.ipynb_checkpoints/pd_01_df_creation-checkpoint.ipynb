{
 "cells": [
  {
   "cell_type": "markdown",
   "metadata": {},
   "source": [
    "# Pandas Dataframe Creation - Exercise Notebook\n",
    "In this exercise session, we will be creating dataframes. This will help us in situations where we do not have neatly-prepared CSV files or are not reading from databases. In some cases we may need to dynamically accumulate data into a frame or select certain properties in a very deeply segmented JSON object. In other cases we will get our data as list of lists. Converting such data to a dataframe and working with its columns / rows will make our code more natural and readable.\n",
    "\n",
    "In this session:\n",
    "* Import the required modules;\n",
    "* Initialize a random generator with a certain seed, so that your results are reproducible;\n",
    "* Follow the tasks below;\n",
    "\n",
    "For all the exercises below, the dataframe should conform to the following requirements:\n",
    "* The column names of the dataframe are strings that follow the pattern: `column_n` where `n` iterates from 0 to 9;\n",
    "* The values are random integers between 0 and 100;\n",
    "* The dataframe has 20 rows and 10 columns;\n",
    "\n",
    "### Exercise 1\n",
    "Create a dataframe from a dictionary of string-list pairs."
   ]
  },
  {
   "cell_type": "code",
   "execution_count": 2,
   "metadata": {},
   "outputs": [
    {
     "data": {
      "text/plain": [
       "1"
      ]
     },
     "execution_count": 2,
     "metadata": {},
     "output_type": "execute_result"
    }
   ],
   "source": [
    "# your code here"
   ]
  },
  {
   "cell_type": "markdown",
   "metadata": {},
   "source": [
    "### Exercise 2\n",
    "Create a dataframe from a list of lists using list comprehension."
   ]
  },
  {
   "cell_type": "code",
   "execution_count": 79,
   "metadata": {},
   "outputs": [],
   "source": [
    "# your code here"
   ]
  },
  {
   "cell_type": "markdown",
   "metadata": {},
   "source": [
    "### Excercise 3\n",
    "Create a dataframe from a list of lists iteratively."
   ]
  },
  {
   "cell_type": "code",
   "execution_count": 80,
   "metadata": {},
   "outputs": [],
   "source": [
    "# your code here"
   ]
  },
  {
   "cell_type": "markdown",
   "metadata": {},
   "source": [
    "### Exercise 4\n",
    "Create a dataframe from a list of dictionaries."
   ]
  },
  {
   "cell_type": "code",
   "execution_count": 81,
   "metadata": {},
   "outputs": [],
   "source": [
    "# your code here"
   ]
  },
  {
   "cell_type": "markdown",
   "metadata": {},
   "source": [
    "### Exercise 5\n",
    "Create a dataframe from a Numpy array."
   ]
  },
  {
   "cell_type": "code",
   "execution_count": 82,
   "metadata": {},
   "outputs": [],
   "source": [
    "# your code here"
   ]
  },
  {
   "cell_type": "markdown",
   "metadata": {},
   "source": [
    "### Exercise 6\n",
    "Create a dataframe from a list of named tuples."
   ]
  },
  {
   "cell_type": "code",
   "execution_count": 84,
   "metadata": {},
   "outputs": [],
   "source": [
    "# your code here"
   ]
  }
 ],
 "metadata": {
  "kernelspec": {
   "display_name": "Python 3",
   "language": "python",
   "name": "python3"
  },
  "language_info": {
   "codemirror_mode": {
    "name": "ipython",
    "version": 3
   },
   "file_extension": ".py",
   "mimetype": "text/x-python",
   "name": "python",
   "nbconvert_exporter": "python",
   "pygments_lexer": "ipython3",
   "version": "3.6.9"
  }
 },
 "nbformat": 4,
 "nbformat_minor": 4
}
